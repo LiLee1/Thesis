{
  "nbformat": 4,
  "nbformat_minor": 0,
  "metadata": {
    "colab": {
      "name": "AutoML_Models_for_Modulation_Classification.ipynb",
      "provenance": [],
      "collapsed_sections": [],
      "include_colab_link": true
    },
    "kernelspec": {
      "display_name": "Python 3",
      "name": "python3"
    },
    "accelerator": "GPU"
  },
  "cells": [
    {
      "cell_type": "markdown",
      "metadata": {
        "id": "view-in-github",
        "colab_type": "text"
      },
      "source": [
        "<a href=\"https://colab.research.google.com/github/LiLee1/Thesis/blob/main/AutoML_Models_for_Modulation_Classification.ipynb\" target=\"_parent\"><img src=\"https://colab.research.google.com/assets/colab-badge.svg\" alt=\"Open In Colab\"/></a>"
      ]
    },
    {
      "cell_type": "markdown",
      "metadata": {
        "id": "REN5MVjpeg-J"
      },
      "source": [
        "# Modulation Classification\n",
        "\n",
        "Developing AutoML Model for AWGN Channel for Modulation Classification. SNR Ratio's(in dB) of Channel are $[−20,-18,-16,-14,-12,-10,-8,-6,-4,-2,0,2,4,6,8,10,12,14,16,18]$.\n",
        "\n",
        "**Data**: RadioML Dataset\n",
        "\n",
        "**Modulation Classification:**\n",
        "We will use AutoML to create a Classifier to Predict Labels."
      ]
    },
    {
      "cell_type": "markdown",
      "metadata": {
        "id": "7goApXJCe392"
      },
      "source": [
        "## Imports"
      ]
    },
    {
      "cell_type": "markdown",
      "metadata": {
        "id": "hd-zaQMCfb9N"
      },
      "source": [
        "### Importing Data\n",
        "\n",
        "Files are uploaded in Google Drive. Notebook is connected to Google Drive"
      ]
    },
    {
      "cell_type": "code",
      "metadata": {
        "id": "XOWvoS3tfumI"
      },
      "source": [
        "# from google.colab import drive\n",
        "# drive.mount('/gdrive')\n",
        "# %cd /gdrive/My\\ Drive/Modulation-Classification/Real\\ Datasets/RadioML-Dataset/AutoML"
      ],
      "execution_count": null,
      "outputs": []
    },
    {
      "cell_type": "code",
      "metadata": {
        "id": "4i-4tf1pbSST",
        "colab": {
          "base_uri": "https://localhost:8080/"
        },
        "outputId": "836637c4-5dc4-43a8-8068-c37cd9c3ea52"
      },
      "source": [
        "from google.colab import drive\n",
        "drive.mount('/content/drive')\n",
        "%cd /content/drive/MyDrive/modulation recognition/chapter3/AutoML"
      ],
      "execution_count": null,
      "outputs": [
        {
          "output_type": "stream",
          "name": "stdout",
          "text": [
            "Drive already mounted at /content/drive; to attempt to forcibly remount, call drive.mount(\"/content/drive\", force_remount=True).\n",
            "/content/drive/MyDrive/modulation recognition/chapter3/AutoML\n"
          ]
        }
      ]
    },
    {
      "cell_type": "code",
      "metadata": {
        "id": "X68VY5tUazhE"
      },
      "source": [
        "# !mkdir researchHub   #然后创建文件夹，自己定名字\n",
        "\n",
        "# %cd './researchHub'   #进入你创建的这个文件夹：\n",
        "# os.chdir('./researchHub') "
      ],
      "execution_count": null,
      "outputs": []
    },
    {
      "cell_type": "markdown",
      "metadata": {
        "id": "bdJoOULse6M5"
      },
      "source": [
        "### Importing Libraries\n",
        "\n",
        "We will be using AutoKeras for generating AutoML Models.\n",
        "Source of Documentation: [https://autokeras.com/](https://autokeras.com/)"
      ]
    },
    {
      "cell_type": "code",
      "metadata": {
        "id": "tYRP6fHreppJ",
        "colab": {
          "base_uri": "https://localhost:8080/",
          "height": 522
        },
        "outputId": "db4f807b-635b-4d70-f1c5-f60ced48b6ab"
      },
      "source": [
        "import numpy as np\n",
        "import matplotlib.pyplot as plt\n",
        "import matplotlib.image as pimg\n",
        "import seaborn as sns\n",
        "import scipy.io\n",
        "import os\n",
        "from sklearn.model_selection import train_test_split\n",
        "\n",
        "# Importing Preprocessing Libraries\n",
        "from Import_Functions import ImportData, ImportDatasets\n",
        "from Plot_Results import EvaluateData, PlotResults\n",
        "\n",
        "# AutoML Libraries\n",
        "# !pip3 install autokeras\n",
        "import autokeras as ak\n",
        "\n",
        "# Tensorflow Libraries\n",
        "import tensorflow as tf\n",
        "from tensorflow.keras.layers import Dense, Flatten, ReLU, Conv2D, Input, MaxPooling2D, BatchNormalization, AveragePooling2D, Reshape, ZeroPadding2D, Dropout\n",
        "from tensorflow.keras.models import Model"
      ],
      "execution_count": null,
      "outputs": [
        {
          "output_type": "error",
          "ename": "ImportError",
          "evalue": "ignored",
          "traceback": [
            "\u001b[0;31m---------------------------------------------------------------------------\u001b[0m",
            "\u001b[0;31mImportError\u001b[0m                               Traceback (most recent call last)",
            "\u001b[0;32m<ipython-input-23-f37b8740e5f5>\u001b[0m in \u001b[0;36m<module>\u001b[0;34m()\u001b[0m\n\u001b[1;32m     13\u001b[0m \u001b[0;31m# AutoML Libraries\u001b[0m\u001b[0;34m\u001b[0m\u001b[0;34m\u001b[0m\u001b[0;34m\u001b[0m\u001b[0m\n\u001b[1;32m     14\u001b[0m \u001b[0;31m# !pip3 install autokeras\u001b[0m\u001b[0;34m\u001b[0m\u001b[0;34m\u001b[0m\u001b[0;34m\u001b[0m\u001b[0m\n\u001b[0;32m---> 15\u001b[0;31m \u001b[0;32mimport\u001b[0m \u001b[0mautokeras\u001b[0m \u001b[0;32mas\u001b[0m \u001b[0mak\u001b[0m\u001b[0;34m\u001b[0m\u001b[0;34m\u001b[0m\u001b[0m\n\u001b[0m\u001b[1;32m     16\u001b[0m \u001b[0;34m\u001b[0m\u001b[0m\n\u001b[1;32m     17\u001b[0m \u001b[0;31m# Tensorflow Libraries\u001b[0m\u001b[0;34m\u001b[0m\u001b[0;34m\u001b[0m\u001b[0;34m\u001b[0m\u001b[0m\n",
            "\u001b[0;32m/usr/local/lib/python3.7/dist-packages/autokeras/__init__.py\u001b[0m in \u001b[0;36m<module>\u001b[0;34m()\u001b[0m\n\u001b[1;32m     13\u001b[0m \u001b[0;31m# limitations under the License.\u001b[0m\u001b[0;34m\u001b[0m\u001b[0;34m\u001b[0m\u001b[0;34m\u001b[0m\u001b[0m\n\u001b[1;32m     14\u001b[0m \u001b[0;34m\u001b[0m\u001b[0m\n\u001b[0;32m---> 15\u001b[0;31m \u001b[0;32mfrom\u001b[0m \u001b[0mautokeras\u001b[0m\u001b[0;34m.\u001b[0m\u001b[0mauto_model\u001b[0m \u001b[0;32mimport\u001b[0m \u001b[0mAutoModel\u001b[0m\u001b[0;34m\u001b[0m\u001b[0;34m\u001b[0m\u001b[0m\n\u001b[0m\u001b[1;32m     16\u001b[0m \u001b[0;32mfrom\u001b[0m \u001b[0mautokeras\u001b[0m\u001b[0;34m.\u001b[0m\u001b[0mblocks\u001b[0m \u001b[0;32mimport\u001b[0m \u001b[0mBertBlock\u001b[0m\u001b[0;34m\u001b[0m\u001b[0;34m\u001b[0m\u001b[0m\n\u001b[1;32m     17\u001b[0m \u001b[0;32mfrom\u001b[0m \u001b[0mautokeras\u001b[0m\u001b[0;34m.\u001b[0m\u001b[0mblocks\u001b[0m \u001b[0;32mimport\u001b[0m \u001b[0mCategoricalToNumerical\u001b[0m\u001b[0;34m\u001b[0m\u001b[0;34m\u001b[0m\u001b[0m\n",
            "\u001b[0;32m/usr/local/lib/python3.7/dist-packages/autokeras/auto_model.py\u001b[0m in \u001b[0;36m<module>\u001b[0;34m()\u001b[0m\n\u001b[1;32m     23\u001b[0m \u001b[0;32mfrom\u001b[0m \u001b[0mtensorflow\u001b[0m\u001b[0;34m.\u001b[0m\u001b[0mpython\u001b[0m\u001b[0;34m.\u001b[0m\u001b[0mutil\u001b[0m \u001b[0;32mimport\u001b[0m \u001b[0mnest\u001b[0m\u001b[0;34m\u001b[0m\u001b[0;34m\u001b[0m\u001b[0m\n\u001b[1;32m     24\u001b[0m \u001b[0;34m\u001b[0m\u001b[0m\n\u001b[0;32m---> 25\u001b[0;31m \u001b[0;32mfrom\u001b[0m \u001b[0mautokeras\u001b[0m \u001b[0;32mimport\u001b[0m \u001b[0mblocks\u001b[0m\u001b[0;34m\u001b[0m\u001b[0;34m\u001b[0m\u001b[0m\n\u001b[0m\u001b[1;32m     26\u001b[0m \u001b[0;32mfrom\u001b[0m \u001b[0mautokeras\u001b[0m \u001b[0;32mimport\u001b[0m \u001b[0mgraph\u001b[0m \u001b[0;32mas\u001b[0m \u001b[0mgraph_module\u001b[0m\u001b[0;34m\u001b[0m\u001b[0;34m\u001b[0m\u001b[0m\n\u001b[1;32m     27\u001b[0m \u001b[0;32mfrom\u001b[0m \u001b[0mautokeras\u001b[0m \u001b[0;32mimport\u001b[0m \u001b[0mpipeline\u001b[0m\u001b[0;34m\u001b[0m\u001b[0;34m\u001b[0m\u001b[0m\n",
            "\u001b[0;32m/usr/local/lib/python3.7/dist-packages/autokeras/blocks/__init__.py\u001b[0m in \u001b[0;36m<module>\u001b[0;34m()\u001b[0m\n\u001b[1;32m     15\u001b[0m \u001b[0;32mimport\u001b[0m \u001b[0mtensorflow\u001b[0m \u001b[0;32mas\u001b[0m \u001b[0mtf\u001b[0m\u001b[0;34m\u001b[0m\u001b[0;34m\u001b[0m\u001b[0m\n\u001b[1;32m     16\u001b[0m \u001b[0;34m\u001b[0m\u001b[0m\n\u001b[0;32m---> 17\u001b[0;31m \u001b[0;32mfrom\u001b[0m \u001b[0mautokeras\u001b[0m\u001b[0;34m.\u001b[0m\u001b[0mblocks\u001b[0m\u001b[0;34m.\u001b[0m\u001b[0mbasic\u001b[0m \u001b[0;32mimport\u001b[0m \u001b[0mBertBlock\u001b[0m\u001b[0;34m\u001b[0m\u001b[0;34m\u001b[0m\u001b[0m\n\u001b[0m\u001b[1;32m     18\u001b[0m \u001b[0;32mfrom\u001b[0m \u001b[0mautokeras\u001b[0m\u001b[0;34m.\u001b[0m\u001b[0mblocks\u001b[0m\u001b[0;34m.\u001b[0m\u001b[0mbasic\u001b[0m \u001b[0;32mimport\u001b[0m \u001b[0mConvBlock\u001b[0m\u001b[0;34m\u001b[0m\u001b[0;34m\u001b[0m\u001b[0m\n\u001b[1;32m     19\u001b[0m \u001b[0;32mfrom\u001b[0m \u001b[0mautokeras\u001b[0m\u001b[0;34m.\u001b[0m\u001b[0mblocks\u001b[0m\u001b[0;34m.\u001b[0m\u001b[0mbasic\u001b[0m \u001b[0;32mimport\u001b[0m \u001b[0mDenseBlock\u001b[0m\u001b[0;34m\u001b[0m\u001b[0;34m\u001b[0m\u001b[0m\n",
            "\u001b[0;32m/usr/local/lib/python3.7/dist-packages/autokeras/blocks/basic.py\u001b[0m in \u001b[0;36m<module>\u001b[0;34m()\u001b[0m\n\u001b[1;32m     22\u001b[0m \u001b[0;32mfrom\u001b[0m \u001b[0mtensorflow\u001b[0m\u001b[0;34m.\u001b[0m\u001b[0mpython\u001b[0m\u001b[0;34m.\u001b[0m\u001b[0mutil\u001b[0m \u001b[0;32mimport\u001b[0m \u001b[0mnest\u001b[0m\u001b[0;34m\u001b[0m\u001b[0;34m\u001b[0m\u001b[0m\n\u001b[1;32m     23\u001b[0m \u001b[0;34m\u001b[0m\u001b[0m\n\u001b[0;32m---> 24\u001b[0;31m \u001b[0;32mfrom\u001b[0m \u001b[0mautokeras\u001b[0m \u001b[0;32mimport\u001b[0m \u001b[0mkeras_layers\u001b[0m\u001b[0;34m\u001b[0m\u001b[0;34m\u001b[0m\u001b[0m\n\u001b[0m\u001b[1;32m     25\u001b[0m \u001b[0;32mfrom\u001b[0m \u001b[0mautokeras\u001b[0m\u001b[0;34m.\u001b[0m\u001b[0mblocks\u001b[0m \u001b[0;32mimport\u001b[0m \u001b[0mreduction\u001b[0m\u001b[0;34m\u001b[0m\u001b[0;34m\u001b[0m\u001b[0m\n\u001b[1;32m     26\u001b[0m \u001b[0;32mfrom\u001b[0m \u001b[0mautokeras\u001b[0m\u001b[0;34m.\u001b[0m\u001b[0mengine\u001b[0m \u001b[0;32mimport\u001b[0m \u001b[0mblock\u001b[0m \u001b[0;32mas\u001b[0m \u001b[0mblock_module\u001b[0m\u001b[0;34m\u001b[0m\u001b[0;34m\u001b[0m\u001b[0m\n",
            "\u001b[0;32m/usr/local/lib/python3.7/dist-packages/autokeras/keras_layers.py\u001b[0m in \u001b[0;36m<module>\u001b[0;34m()\u001b[0m\n\u001b[1;32m     22\u001b[0m \u001b[0;32mimport\u001b[0m \u001b[0msix\u001b[0m\u001b[0;34m\u001b[0m\u001b[0;34m\u001b[0m\u001b[0m\n\u001b[1;32m     23\u001b[0m \u001b[0;32mimport\u001b[0m \u001b[0mtensorflow\u001b[0m \u001b[0;32mas\u001b[0m \u001b[0mtf\u001b[0m\u001b[0;34m\u001b[0m\u001b[0;34m\u001b[0m\u001b[0m\n\u001b[0;32m---> 24\u001b[0;31m \u001b[0;32mfrom\u001b[0m \u001b[0mtensorflow\u001b[0m\u001b[0;34m.\u001b[0m\u001b[0mkeras\u001b[0m\u001b[0;34m.\u001b[0m\u001b[0mlayers\u001b[0m\u001b[0;34m.\u001b[0m\u001b[0mexperimental\u001b[0m \u001b[0;32mimport\u001b[0m \u001b[0mpreprocessing\u001b[0m\u001b[0;34m\u001b[0m\u001b[0;34m\u001b[0m\u001b[0m\n\u001b[0m\u001b[1;32m     25\u001b[0m \u001b[0;32mfrom\u001b[0m \u001b[0mtensorflow\u001b[0m\u001b[0;34m.\u001b[0m\u001b[0mpython\u001b[0m\u001b[0;34m.\u001b[0m\u001b[0mutil\u001b[0m \u001b[0;32mimport\u001b[0m \u001b[0mnest\u001b[0m\u001b[0;34m\u001b[0m\u001b[0;34m\u001b[0m\u001b[0m\n\u001b[1;32m     26\u001b[0m \u001b[0;34m\u001b[0m\u001b[0m\n",
            "\u001b[0;32m/usr/local/lib/python3.7/dist-packages/keras/api/_v2/keras/layers/__init__.py\u001b[0m in \u001b[0;36m<module>\u001b[0;34m()\u001b[0m\n\u001b[1;32m     85\u001b[0m \u001b[0;32mfrom\u001b[0m \u001b[0mkeras\u001b[0m\u001b[0;34m.\u001b[0m\u001b[0mlayers\u001b[0m\u001b[0;34m.\u001b[0m\u001b[0mnoise\u001b[0m \u001b[0;32mimport\u001b[0m \u001b[0mGaussianDropout\u001b[0m\u001b[0;34m\u001b[0m\u001b[0;34m\u001b[0m\u001b[0m\n\u001b[1;32m     86\u001b[0m \u001b[0;32mfrom\u001b[0m \u001b[0mkeras\u001b[0m\u001b[0;34m.\u001b[0m\u001b[0mlayers\u001b[0m\u001b[0;34m.\u001b[0m\u001b[0mnoise\u001b[0m \u001b[0;32mimport\u001b[0m \u001b[0mGaussianNoise\u001b[0m\u001b[0;34m\u001b[0m\u001b[0;34m\u001b[0m\u001b[0m\n\u001b[0;32m---> 87\u001b[0;31m \u001b[0;32mfrom\u001b[0m \u001b[0mkeras\u001b[0m\u001b[0;34m.\u001b[0m\u001b[0mlayers\u001b[0m\u001b[0;34m.\u001b[0m\u001b[0mnormalization\u001b[0m \u001b[0;32mimport\u001b[0m \u001b[0mLayerNormalization\u001b[0m\u001b[0;34m\u001b[0m\u001b[0;34m\u001b[0m\u001b[0m\n\u001b[0m\u001b[1;32m     88\u001b[0m \u001b[0;32mfrom\u001b[0m \u001b[0mkeras\u001b[0m\u001b[0;34m.\u001b[0m\u001b[0mlayers\u001b[0m\u001b[0;34m.\u001b[0m\u001b[0mnormalization_v2\u001b[0m \u001b[0;32mimport\u001b[0m \u001b[0mBatchNormalization\u001b[0m\u001b[0;34m\u001b[0m\u001b[0;34m\u001b[0m\u001b[0m\n\u001b[1;32m     89\u001b[0m \u001b[0;32mfrom\u001b[0m \u001b[0mkeras\u001b[0m\u001b[0;34m.\u001b[0m\u001b[0mlayers\u001b[0m\u001b[0;34m.\u001b[0m\u001b[0mpooling\u001b[0m \u001b[0;32mimport\u001b[0m \u001b[0mAveragePooling1D\u001b[0m\u001b[0;34m\u001b[0m\u001b[0;34m\u001b[0m\u001b[0m\n",
            "\u001b[0;31mImportError\u001b[0m: cannot import name 'LayerNormalization' from 'keras.layers.normalization' (/usr/local/lib/python3.7/dist-packages/keras/layers/normalization/__init__.py)",
            "",
            "\u001b[0;31m---------------------------------------------------------------------------\u001b[0;32m\nNOTE: If your import is failing due to a missing package, you can\nmanually install dependencies using either !pip or !apt.\n\nTo view examples of installing some common dependencies, click the\n\"Open Examples\" button below.\n\u001b[0;31m---------------------------------------------------------------------------\u001b[0m\n"
          ],
          "errorDetails": {
            "actions": [
              {
                "action": "open_url",
                "actionText": "Open Examples",
                "url": "/notebooks/snippets/importing_libraries.ipynb"
              }
            ]
          }
        }
      ]
    },
    {
      "cell_type": "markdown",
      "metadata": {
        "id": "eg4pd32KDBjI"
      },
      "source": [
        "## Customised AutoML Blocks"
      ]
    },
    {
      "cell_type": "code",
      "metadata": {
        "colab": {
          "base_uri": "https://localhost:8080/",
          "height": 174
        },
        "id": "PPDVg_le1PG-",
        "outputId": "1b0d9812-4b90-4f60-8f2d-e5b56131f777"
      },
      "source": [
        "!python --version\n",
        "!nvcc --version\n",
        "!nvidia-smi\n",
        "\n",
        "import tensorflow as tf\n",
        "tf.__version__\n",
        "\n",
        "# import keras\n",
        "# keras.__version__"
      ],
      "execution_count": null,
      "outputs": [
        {
          "output_type": "stream",
          "name": "stdout",
          "text": [
            "Python 3.7.12\n",
            "nvcc: NVIDIA (R) Cuda compiler driver\n",
            "Copyright (c) 2005-2020 NVIDIA Corporation\n",
            "Built on Mon_Oct_12_20:09:46_PDT_2020\n",
            "Cuda compilation tools, release 11.1, V11.1.105\n",
            "Build cuda_11.1.TC455_06.29190527_0\n",
            "NVIDIA-SMI has failed because it couldn't communicate with the NVIDIA driver. Make sure that the latest NVIDIA driver is installed and running.\n",
            "\n"
          ]
        },
        {
          "output_type": "execute_result",
          "data": {
            "application/vnd.google.colaboratory.intrinsic+json": {
              "type": "string"
            },
            "text/plain": [
              "'2.7.0'"
            ]
          },
          "metadata": {},
          "execution_count": 24
        }
      ]
    },
    {
      "cell_type": "code",
      "metadata": {
        "id": "iPZStyfic9ir"
      },
      "source": [
        "class SqueezeLayerBlock(ak.Block):\n",
        "    def build(self, hp, inputs=None):\n",
        "        input_node = inputs[0]\n",
        "        output_node = tf.squeeze(input_node,axis=2)\n",
        "        return output_node\n",
        "\n",
        "class AddDimsLayerBlock(ak.Block):\n",
        "    def build(self, hp, inputs=None):\n",
        "        input_node = inputs[0]\n",
        "        output_node = tf.expand_dims(input_node,axis=1)\n",
        "        return output_node\n",
        "\n",
        "class PermuteLayerBlock(ak.Block):\n",
        "    def build(self, hp, shape=None, inputs=None):\n",
        "        input_node = inputs[0]\n",
        "        dims = len(input_node.shape.as_list()[1:])\n",
        "        output_node = tf.keras.layers.Permute([*range(dims,0,-1)])(input_node)\n",
        "        return output_node"
      ],
      "execution_count": null,
      "outputs": []
    },
    {
      "cell_type": "markdown",
      "metadata": {
        "id": "HDMRn7wxBHlQ"
      },
      "source": [
        "Callbacks"
      ]
    },
    {
      "cell_type": "code",
      "metadata": {
        "id": "uhq1S8ofBMi7"
      },
      "source": [
        "EarlyStoppingCallbacks = [tf.keras.callbacks.EarlyStopping(patience=5)]"
      ],
      "execution_count": null,
      "outputs": []
    },
    {
      "cell_type": "markdown",
      "metadata": {
        "id": "s7N4MnrM3f1O"
      },
      "source": [
        "## Importing Data"
      ]
    },
    {
      "cell_type": "code",
      "metadata": {
        "id": "b6-OxL-S3i5a"
      },
      "source": [
        "X_Train, y_Train, X_Valid, y_Valid = ImportDatasets(\"/content/drive/MyDrive/modulation recognition/chapter3/Data/RML2016.10a_dict.pkl\",test_size=0.2)"
      ],
      "execution_count": null,
      "outputs": []
    },
    {
      "cell_type": "markdown",
      "metadata": {
        "id": "1HEaUkhHurPq"
      },
      "source": [
        "## AutoML ResNet Model for RadioML Dataset\n",
        "For RadioML Dataset, Input Dimensions is (2,128)"
      ]
    },
    {
      "cell_type": "markdown",
      "metadata": {
        "id": "NI6JvxvFuxcf"
      },
      "source": [
        "### Creating Classifier"
      ]
    },
    {
      "cell_type": "code",
      "metadata": {
        "id": "YiK7RcyIuxcg",
        "colab": {
          "base_uri": "https://localhost:8080/"
        },
        "outputId": "d91a659a-528b-438d-fed3-76ff9ca5a3a2"
      },
      "source": [
        "tf.keras.backend.clear_session()\n",
        "\n",
        "input_node = ak.Input()\n",
        "addDims_node = AddDimsLayerBlock()(input_node)\n",
        "permute_node = PermuteLayerBlock()(addDims_node)\n",
        "resnet_node = ak.ResNetBlock(version='v1')(permute_node)\n",
        "dense_node = ak.DenseBlock()(resnet_node)\n",
        "output_node = ak.ClassificationHead(num_classes=11,\n",
        "                                    loss='categorical_crossentropy')(dense_node)\n",
        "\n",
        "RadioMLClassifier = ak.AutoModel(inputs=input_node,\n",
        "                                outputs=output_node,\n",
        "                                overwrite=True,\n",
        "                                tuner='greedy',\n",
        "                                max_trials=3)\n",
        "\n",
        "RadioMLClassifier.fit(X_Train, y_Train, epochs=3, batch_size=1536, validation_split=0.05,shuffle=True,callbacks=EarlyStoppingCallbacks)"
      ],
      "execution_count": null,
      "outputs": [
        {
          "output_type": "stream",
          "name": "stdout",
          "text": [
            "\n",
            "Search: Running Trial #1\n",
            "\n",
            "Hyperparameter    |Value             |Best Value So Far \n",
            "res_net_block_1...|False             |?                 \n",
            "res_net_block_1...|resnet50          |?                 \n",
            "res_net_block_1...|False             |?                 \n",
            "dense_block_1/u...|False             |?                 \n",
            "dense_block_1/n...|3                 |?                 \n",
            "dense_block_1/u...|64                |?                 \n",
            "dense_block_1/d...|0                 |?                 \n",
            "dense_block_1/u...|128               |?                 \n",
            "classification_...|0                 |?                 \n",
            "optimizer         |adam              |?                 \n",
            "learning_rate     |0.001             |?                 \n",
            "\n",
            "Epoch 1/3\n",
            "  7/110 [>.............................] - ETA: 6:47:02 - loss: 5.4786 - accuracy: 0.0268"
          ]
        }
      ]
    },
    {
      "cell_type": "markdown",
      "metadata": {
        "id": "HbC8w-mWuxci"
      },
      "source": [
        "Model Summary"
      ]
    },
    {
      "cell_type": "code",
      "metadata": {
        "id": "5-ZeLYEUuxcj"
      },
      "source": [
        "RadioML_Model = RadioMLClassifier.export_model()\n",
        "RadioML_Model.summary()\n",
        "tf.keras.backend.clear_session()\n",
        "tf.keras.utils.plot_model(RadioML_Model, to_file=/content/drive/MyDrive/modulation recognition/chapter3/Models/RadioML_Model_ResNet.png', show_shapes=True,show_layer_names=True)\n"
      ],
      "execution_count": null,
      "outputs": []
    },
    {
      "cell_type": "markdown",
      "metadata": {
        "id": "7E7BvPI1uxck"
      },
      "source": [
        "### Training and Evaluating Model"
      ]
    },
    {
      "cell_type": "markdown",
      "metadata": {
        "id": "I9TTD4iruxcl"
      },
      "source": [
        "Training the Model"
      ]
    },
    {
      "cell_type": "code",
      "metadata": {
        "id": "OYUuhNivuxcm"
      },
      "source": [
        "RadioML_Model.fit(X_Train, y_Train, epochs=25, batch_size=1536, validation_split=0.05,shuffle=True)"
      ],
      "execution_count": null,
      "outputs": []
    },
    {
      "cell_type": "markdown",
      "metadata": {
        "id": "wT5AjPchuxcn"
      },
      "source": [
        "Evaluate the Model"
      ]
    },
    {
      "cell_type": "code",
      "metadata": {
        "id": "G3pgI5k_uxco"
      },
      "source": [
        "EvaluateData(RadioML_Model, X_Valid, y_Valid, \"/content/drive/MyDrive/modulation recognition/chapter3/Results/RadioML_Accuracy_ResNet.jpg\")"
      ],
      "execution_count": null,
      "outputs": []
    },
    {
      "cell_type": "markdown",
      "metadata": {
        "id": "nZIs77zZuxco"
      },
      "source": [
        "Save Model"
      ]
    },
    {
      "cell_type": "code",
      "metadata": {
        "id": "IvPSB94Uuxct"
      },
      "source": [
        "RadioML_Model.save(\"/content/drive/MyDrive/modulation recognition/chapter3/Models/RadioML_ResNet.h5\")"
      ],
      "execution_count": null,
      "outputs": []
    },
    {
      "cell_type": "markdown",
      "metadata": {
        "id": "1AFrbudtNh_-"
      },
      "source": [
        "## AutoML CLDNN Model for RadioML Dataset\n",
        "\n",
        "For RadioML Dataset, Input Dimensions is (2,128)"
      ]
    },
    {
      "cell_type": "markdown",
      "metadata": {
        "id": "QhNEUVP0NiAG"
      },
      "source": [
        "### Creating Classifier"
      ]
    },
    {
      "cell_type": "code",
      "metadata": {
        "id": "H_mXh3gzNiAL"
      },
      "source": [
        "tf.keras.backend.clear_session()\n",
        "\n",
        "input_node = ak.Input()\n",
        "addDims_node = AddDimsLayerBlock()(input_node)\n",
        "permute_node = PermuteLayerBlock()(addDims_node)\n",
        "conv_node = ak.ConvBlock()(permute_node)\n",
        "reshape_node = SqueezeLayerBlock()(conv_node)\n",
        "rnn_node = ak.RNNBlock(return_sequences=True,\n",
        "                       bidirectional=True,\n",
        "                       layer_type='lstm')(reshape_node)\n",
        "dense_node = ak.DenseBlock()(rnn_node)\n",
        "output_node = ak.ClassificationHead(num_classes=11,\n",
        "                                    loss='categorical_crossentropy')(dense_node)\n",
        "\n",
        "RadioMLClassifier = ak.AutoModel(inputs=input_node,\n",
        "                                outputs=output_node,\n",
        "                                overwrite=True,\n",
        "                                tuner='greedy',\n",
        "                                max_trials=10)\n",
        "\n",
        "RadioMLClassifier.fit(X_Train, y_Train, epochs=10, batch_size=1024, validation_split=0.05,shuffle=True,callbacks=EarlyStoppingCallbacks)"
      ],
      "execution_count": null,
      "outputs": []
    },
    {
      "cell_type": "markdown",
      "metadata": {
        "id": "SNyljBqnNiAN"
      },
      "source": [
        "Model Summary"
      ]
    },
    {
      "cell_type": "code",
      "metadata": {
        "id": "44OlzhW9NiAO"
      },
      "source": [
        "RadioML_Model = RadioMLClassifier.export_model()\n",
        "RadioML_Model.summary()\n",
        "tf.keras.backend.clear_session()\n",
        "tf.keras.utils.plot_model(RadioML_Model, to_file='/content/drive/MyDrive/modulation recognition/chapter3/Models/RadioML_Model_CLDNN.png', show_shapes=True,show_layer_names=True)"
      ],
      "execution_count": null,
      "outputs": []
    },
    {
      "cell_type": "markdown",
      "metadata": {
        "id": "H7nG3IKONiAQ"
      },
      "source": [
        "### Training and Evaluating Model"
      ]
    },
    {
      "cell_type": "markdown",
      "metadata": {
        "id": "q_y4RzWdNiAR"
      },
      "source": [
        "Training the Model"
      ]
    },
    {
      "cell_type": "code",
      "metadata": {
        "id": "L3CCnlOXNiAS"
      },
      "source": [
        "RadioML_Model.fit(X_Train, y_Train, epochs=100, batch_size=1024, validation_split=0.05,shuffle=True)"
      ],
      "execution_count": null,
      "outputs": []
    },
    {
      "cell_type": "markdown",
      "metadata": {
        "id": "Q437W6d2NiAS"
      },
      "source": [
        "Evaluate the Model"
      ]
    },
    {
      "cell_type": "code",
      "metadata": {
        "id": "O19y7Wj5NiAT"
      },
      "source": [
        "EvaluateData(RadioML_Model, X_Valid, y_Valid, \"/content/drive/MyDrive/modulation recognition/chapter3/Results/RadioML_Accuracy_CLDNN.jpg\")"
      ],
      "execution_count": null,
      "outputs": []
    },
    {
      "cell_type": "markdown",
      "metadata": {
        "id": "zLLaqDCzNiAU"
      },
      "source": [
        "Save Model"
      ]
    },
    {
      "cell_type": "code",
      "metadata": {
        "id": "JKvhKHzzNiAU"
      },
      "source": [
        "RadioML_Model.save(\"/content/drive/MyDrive/modulation recognition/chapter3/Models/RadioML_CLDNN.h5\")"
      ],
      "execution_count": null,
      "outputs": []
    },
    {
      "cell_type": "markdown",
      "metadata": {
        "id": "-JUspuw7eaAI"
      },
      "source": [
        "## AutoML CNN Model for RadioML Dataset\n",
        "\n",
        "For RadioML Dataset, Input Dimensions is (2,128)"
      ]
    },
    {
      "cell_type": "markdown",
      "metadata": {
        "id": "S_2ki0e1fPGO"
      },
      "source": [
        "### Creating Classifier"
      ]
    },
    {
      "cell_type": "code",
      "metadata": {
        "id": "sB-ILPRJooSe"
      },
      "source": [
        "tf.keras.backend.clear_session()\n",
        "\n",
        "input_node = ak.Input()\n",
        "addDims_node = AddDimsLayerBlock()(input_node)\n",
        "permute_node = PermuteLayerBlock()(addDims_node)\n",
        "conv_node = ak.ConvBlock()(permute_node)\n",
        "dense_node = ak.DenseBlock()(conv_node)\n",
        "output_node = ak.ClassificationHead(num_classes=11,\n",
        "                                    loss='categorical_crossentropy')(dense_node)\n",
        "\n",
        "RadioMLClassifier = ak.AutoModel(inputs=input_node,\n",
        "                                outputs=output_node,\n",
        "                                overwrite=True,\n",
        "                                tuner='greedy',\n",
        "                                max_trials=20)\n",
        "\n",
        "RadioMLClassifier.fit(X_Train, y_Train, epochs=10, batch_size=2048, validation_split=0.05,shuffle=True,callbacks=EarlyStoppingCallbacks)"
      ],
      "execution_count": null,
      "outputs": []
    },
    {
      "cell_type": "markdown",
      "metadata": {
        "id": "ueqozx15ooSi"
      },
      "source": [
        "Model Summary"
      ]
    },
    {
      "cell_type": "code",
      "metadata": {
        "id": "PNuKL-M7ooSj"
      },
      "source": [
        "RadioML_Model = RadioMLClassifier.export_model()\n",
        "tf.keras.backend.clear_session()\n",
        "RadioML_Model.summary()\n",
        "tf.keras.utils.plot_model(RadioML_Model, to_file='/content/drive/MyDrive/modulation recognition/chapter3/Models/RadioML_Model_CNN.png', show_shapes=True,show_layer_names=True)"
      ],
      "execution_count": null,
      "outputs": []
    },
    {
      "cell_type": "markdown",
      "metadata": {
        "id": "Hro18vwLooSl"
      },
      "source": [
        "### Training and Evaluating Model"
      ]
    },
    {
      "cell_type": "markdown",
      "metadata": {
        "id": "pBBrV12yooSm"
      },
      "source": [
        "Training the Model"
      ]
    },
    {
      "cell_type": "code",
      "metadata": {
        "id": "tzwY6XjtooSn"
      },
      "source": [
        "RadioML_Model.fit(X_Train, y_Train, epochs=100, batch_size=1024, validation_split=0.05,shuffle=True)"
      ],
      "execution_count": null,
      "outputs": []
    },
    {
      "cell_type": "markdown",
      "metadata": {
        "id": "zoRFt6goooSp"
      },
      "source": [
        "Evaluate the Model"
      ]
    },
    {
      "cell_type": "code",
      "metadata": {
        "id": "tlKQgD5eL9uD"
      },
      "source": [
        "EvaluateData(RadioML_Model, X_Valid, y_Valid, \"/content/drive/MyDrive/modulation recognition/chapter3/Results/RadioML_Accuracy_CNN.jpg\")"
      ],
      "execution_count": null,
      "outputs": []
    },
    {
      "cell_type": "markdown",
      "metadata": {
        "id": "ki6NckaxooSr"
      },
      "source": [
        "Save Model"
      ]
    },
    {
      "cell_type": "code",
      "metadata": {
        "id": "K1GhN_OOooSs"
      },
      "source": [
        "RadioML_Model.save(/content/drive/MyDrive/modulation recognition/chapter3/Models/RadioML_CNN.h5\")"
      ],
      "execution_count": null,
      "outputs": []
    },
    {
      "cell_type": "markdown",
      "metadata": {
        "id": "asfaZ6uD8PdL"
      },
      "source": [
        "## AutoML RNN Model for RadioML Dataset\n",
        "\n",
        "For RadioML Dataset, Input Dimensions is (2,128)"
      ]
    },
    {
      "cell_type": "markdown",
      "metadata": {
        "id": "uwDG4gpy8PdZ"
      },
      "source": [
        "### Creating Classifier"
      ]
    },
    {
      "cell_type": "code",
      "metadata": {
        "id": "s3Qolkk88Pdb"
      },
      "source": [
        "tf.keras.backend.clear_session()\n",
        "\n",
        "input_node = ak.Input()\n",
        "permute_node = PermuteLayerBlock()(input_node)\n",
        "rnn_node = ak.RNNBlock(return_sequences=True,\n",
        "                       bidirectional=True,\n",
        "                       layer_type='lstm')(permute_node)\n",
        "dense_node = ak.DenseBlock()(rnn_node)\n",
        "output_node = ak.ClassificationHead(num_classes=11,\n",
        "                                    loss='categorical_crossentropy')(dense_node)\n",
        "\n",
        "RadioMLClassifier = ak.AutoModel(inputs=input_node,\n",
        "                                outputs=output_node,\n",
        "                                overwrite=True,\n",
        "                                tuner='greedy',\n",
        "                                max_trials=20)\n",
        "\n",
        "RadioMLClassifier.fit(X_Train, y_Train, epochs=10, batch_size=2048, validation_split=0.05,shuffle=True,callbacks=EarlyStoppingCallbacks)"
      ],
      "execution_count": null,
      "outputs": []
    },
    {
      "cell_type": "markdown",
      "metadata": {
        "id": "E0mEOVfE8Pdc"
      },
      "source": [
        "Model Summary"
      ]
    },
    {
      "cell_type": "code",
      "metadata": {
        "id": "Yr5IfmGT8Pdc"
      },
      "source": [
        "RadioML_Model = RadioMLClassifier.export_model()\n",
        "RadioML_Model.summary()\n",
        "tf.keras.backend.clear_session()\n",
        "tf.keras.utils.plot_model(RadioML_Model, to_file='/content/drive/MyDrive/modulation recognition/chapter3/Models/RadioML_Model_RNN.png', show_shapes=True,show_layer_names=True)"
      ],
      "execution_count": null,
      "outputs": []
    },
    {
      "cell_type": "markdown",
      "metadata": {
        "id": "Sopp01Av8Pdd"
      },
      "source": [
        "### Training and Evaluating Model"
      ]
    },
    {
      "cell_type": "markdown",
      "metadata": {
        "id": "O8PinXtw8Pdd"
      },
      "source": [
        "Training the Model"
      ]
    },
    {
      "cell_type": "code",
      "metadata": {
        "id": "Bub9PpRH8Pdd"
      },
      "source": [
        "RadioML_Model.fit(X_Train, y_Train, epochs=100, batch_size=1024, validation_split=0.05,shuffle=True)"
      ],
      "execution_count": null,
      "outputs": []
    },
    {
      "cell_type": "markdown",
      "metadata": {
        "id": "Ql2P4d6t8Pde"
      },
      "source": [
        "Evaluate the Model"
      ]
    },
    {
      "cell_type": "code",
      "metadata": {
        "id": "KAuC9lHy8Pde"
      },
      "source": [
        "EvaluateData(RadioML_Model, X_Valid, y_Valid, \"/content/drive/MyDrive/modulation recognition/chapter3/Results/RadioML_Accuracy_RNN.jpg\")"
      ],
      "execution_count": null,
      "outputs": []
    },
    {
      "cell_type": "markdown",
      "metadata": {
        "id": "Bs037Yos8Pde"
      },
      "source": [
        "Save Model"
      ]
    },
    {
      "cell_type": "code",
      "metadata": {
        "id": "oesbFkt08Pde"
      },
      "source": [
        "RadioML_Model.save(\"/content/drive/MyDrive/modulation recognition/chapter3/Models/RadioML_RNN.h5\")"
      ],
      "execution_count": null,
      "outputs": []
    },
    {
      "cell_type": "markdown",
      "metadata": {
        "id": "mjRZ_M_6KDTD"
      },
      "source": [
        "## Plot Results\n"
      ]
    },
    {
      "cell_type": "markdown",
      "metadata": {
        "id": "7pi4Fn-tKLe6"
      },
      "source": [
        "### RadioML Model"
      ]
    },
    {
      "cell_type": "markdown",
      "metadata": {
        "id": "7kJM7UN1KP05"
      },
      "source": [
        "Importing Data and Models"
      ]
    },
    {
      "cell_type": "code",
      "metadata": {
        "id": "rG2-aD4bKGLc"
      },
      "source": [
        "RadioML_ResNet = tf.keras.models.load_model(\"/content/drive/MyDrive/modulation recognition/chapter3/Models/RadioML_ResNet.h5\")\n",
        "RadioML_CLDNN = tf.keras.models.load_model(\"/content/drive/MyDrive/modulation recognition/chapter3/Models/RadioML_CLDNN.h5\")\n",
        "RadioML_CNN = tf.keras.models.load_model(\"/content/drive/MyDrive/modulation recognition/chapter3/Models/RadioML_CNN.h5\")\n",
        "RadioML_RNN = tf.keras.models.load_model(\"/content/drive/MyDrive/modulation recognition/chapter3/Models/RadioML_RNN.h5\")"
      ],
      "execution_count": null,
      "outputs": []
    },
    {
      "cell_type": "markdown",
      "metadata": {
        "id": "bHdSEGWikB1n"
      },
      "source": [
        "Plotting Results"
      ]
    },
    {
      "cell_type": "code",
      "metadata": {
        "id": "VR4xiKpGkDXO"
      },
      "source": [
        "Models = {\"RadioML AutoML ResNet Model\":RadioML_ResNet, \n",
        "          \"RadioML AutoML CLDNN Model\":RadioML_CLDNN,\n",
        "          \"RadioML AutoML CNN Model\":RadioML_CNN, \n",
        "          \"RadioML AtuoML RNN Model\":RadioML_RNN}\n",
        "PlotResults(Models, X_Valid, y_Valid, \"/content/drive/MyDrive/modulation recognition/chapter3/Results/RadioML_Accuracies.jpg\")"
      ],
      "execution_count": null,
      "outputs": []
    }
  ]
}